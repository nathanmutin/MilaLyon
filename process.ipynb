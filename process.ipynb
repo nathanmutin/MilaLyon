{
 "cells": [
  {
   "cell_type": "code",
   "execution_count": 1,
   "id": "b6faa0f5",
   "metadata": {},
   "outputs": [],
   "source": [
    "from helpers import *\n",
    "from implementations import *\n",
    "from preprocessing import *\n",
    "import numpy as np\n",
    "import matplotlib.pyplot as plt\n",
    "import pandas as pd\n",
    "import seaborn as sns"
   ]
  },
  {
   "cell_type": "code",
   "execution_count": 2,
   "id": "b14cdb74",
   "metadata": {},
   "outputs": [],
   "source": [
    "#data_folder = './data/'\n",
    "#data_folder = 'C:/Users/ACER/OneDrive - epfl.ch/Desktop/ML/dataset/'\n",
    "data_folder = \"C:/Users/plane/OneDrive/Bureau/MilaLyon/MilaLyon/data/\"\n",
    "#data_folder = \"C:/Users/ACER/OneDrive - epfl.ch/Desktop/ML/MilaLyon/data/\""
   ]
  },
  {
   "cell_type": "code",
   "execution_count": 3,
   "id": "358374f2",
   "metadata": {},
   "outputs": [
    {
     "name": "stdout",
     "output_type": "stream",
     "text": [
      "x_train: <class 'numpy.ndarray'> with shape (328135, 321)\n",
      "x_test: <class 'numpy.ndarray'> with shape (109379, 321)\n",
      "y_train: <class 'numpy.ndarray'> with shape (328135,)\n",
      "train_ids: <class 'numpy.ndarray'> with shape (328135,)\n",
      "test_ids: <class 'numpy.ndarray'> with shape (109379,)\n",
      "feature_names: <class 'numpy.ndarray'> with shape (321,)\n",
      "useless: <class 'numpy.ndarray'> with shape (321,)\n",
      "health_related: <class 'numpy.ndarray'> with shape (321,)\n",
      "better_elsewhere: <class 'numpy.ndarray'> with shape (321,)\n",
      "bad_format_no_better: <class 'numpy.ndarray'> with shape (321,)\n",
      "binary: <class 'numpy.ndarray'> with shape (321,)\n",
      "one_hot: <class 'numpy.ndarray'> with shape (321,)\n"
     ]
    }
   ],
   "source": [
    "csv_data, zero_values, default_values = load_csv_data(data_folder, max_rows=1000000, dictionnary=True)\n",
    "\n",
    "#Replace zeros and default values before preprocessing\n",
    "replace_default_with_nan(csv_data['x_train'], csv_data['x_test'], csv_data['feature_names'], default_values)\n",
    "replace_by_zero(csv_data['x_train'], csv_data['x_test'], zero_values)\n",
    "\n",
    "def print_shapes(data):\n",
    "    for key, value in data.items():\n",
    "        print(f\"{key}: {type(value)} with shape {value.shape if isinstance(value, np.ndarray) else 'N/A'}\")\n",
    "print_shapes(csv_data)\n"
   ]
  },
  {
   "cell_type": "code",
   "execution_count": 4,
   "id": "df4765e1",
   "metadata": {},
   "outputs": [],
   "source": [
    "def preprocess_data(data, nan_drop_threshold=0.2, correlation_threshold=0.02, n_std=3, only_health_related=True, split_val=False, val_size=0.1):\n",
    "\n",
    "    # Identify and drop features with many missing values\n",
    "    nan_features = identify_too_many_missing(data[\"x_train\"], data[\"feature_names\"], threshold=nan_drop_threshold)\n",
    "    drop_features_from_dictionnary(data, nan_features)\n",
    "    print(len(nan_features), \"features with too many missing values dropped.\")\n",
    "\n",
    "    # Replace remaining NaNs with either mean or most frequent value\n",
    "    replace_nan(data[\"x_train\"], data[\"x_test\"])\n",
    "\n",
    "    # Keep only health-related features if specified\n",
    "    if only_health_related:\n",
    "        non_health_features = data['feature_names'][~data['health_related']].tolist()\n",
    "        drop_features_from_dictionnary(data, non_health_features)\n",
    "        print(len(non_health_features), \"non health-related features dropped.\")\n",
    "\n",
    "    # One-hot encode categorical features\n",
    "    n_features_before = data['x_train'].shape[1]\n",
    "    one_hot_encode(data)\n",
    "    n_features_after = data['x_train'].shape[1]\n",
    "    print(f\"One-hot encoding completed. Number of features increased from {n_features_before} to {n_features_after}.\")\n",
    "\n",
    "    # Identify and drop features with low correlation to the target\n",
    "    low_corr_features, _ = identify_low_correlation(data[\"x_train\"], data[\"y_train\"], data[\"feature_names\"], threshold=correlation_threshold)\n",
    "    drop_features_from_dictionnary(data, low_corr_features)\n",
    "    print(len(low_corr_features), \"features with low correlation dropped.\")\n",
    "\n",
    "    #Clip outliers\n",
    "    clip_outliers(data['x_train'], data['x_test'], n_std=n_std)\n",
    "\n",
    "    #Normalize features\n",
    "    data['x_train'], data['x_test'] = min_max_normalize(data['x_train'], data['x_test'])\n",
    "\n",
    "    data['y_train'] = (data['y_train'] == 1).astype(int)\n",
    "\n",
    "    if split_val:\n",
    "        data['x_train'], data['y_train'], data['x_val'], data['y_val'] = split_train_val(data['x_train'], data['y_train'], val_size=val_size)\n"
   ]
  },
  {
   "cell_type": "code",
   "execution_count": 5,
   "id": "489c61cd",
   "metadata": {},
   "outputs": [
    {
     "name": "stdout",
     "output_type": "stream",
     "text": [
      "99 features with too many missing values dropped.\n",
      "One-hot encoding completed. Number of features increased from 222 to 512.\n"
     ]
    },
    {
     "name": "stderr",
     "output_type": "stream",
     "text": [
      "c:\\Users\\plane\\anaconda3\\lib\\site-packages\\numpy\\lib\\function_base.py:2853: RuntimeWarning: invalid value encountered in divide\n",
      "  c /= stddev[:, None]\n",
      "c:\\Users\\plane\\anaconda3\\lib\\site-packages\\numpy\\lib\\function_base.py:2854: RuntimeWarning: invalid value encountered in divide\n",
      "  c /= stddev[None, :]\n"
     ]
    },
    {
     "name": "stdout",
     "output_type": "stream",
     "text": [
      "214 features with low correlation dropped.\n",
      "Clipped 1857812 values in x_train (1.90% of all entries)\n",
      "Clipped 619390 values in x_test (1.90%)\n"
     ]
    }
   ],
   "source": [
    "data_copy = dict(csv_data)\n",
    "preprocess_data(data_copy, nan_drop_threshold=0.9, correlation_threshold=0.01, n_std=3, only_health_related=False, split_val=True, val_size=0.1)"
   ]
  },
  {
   "cell_type": "code",
   "execution_count": 6,
   "id": "20f502a7",
   "metadata": {},
   "outputs": [
    {
     "name": "stdout",
     "output_type": "stream",
     "text": [
      "x_train: <class 'numpy.ndarray'> with shape (295322, 298)\n",
      "x_test: <class 'numpy.ndarray'> with shape (109379, 298)\n",
      "y_train: <class 'numpy.ndarray'> with shape (295322,)\n",
      "train_ids: <class 'numpy.ndarray'> with shape (328135,)\n",
      "test_ids: <class 'numpy.ndarray'> with shape (109379,)\n",
      "feature_names: <class 'numpy.ndarray'> with shape (298,)\n",
      "useless: <class 'numpy.ndarray'> with shape (298,)\n",
      "health_related: <class 'numpy.ndarray'> with shape (298,)\n",
      "better_elsewhere: <class 'numpy.ndarray'> with shape (298,)\n",
      "bad_format_no_better: <class 'numpy.ndarray'> with shape (298,)\n",
      "binary: <class 'numpy.ndarray'> with shape (298,)\n",
      "one_hot: <class 'numpy.ndarray'> with shape (298,)\n",
      "x_val: <class 'numpy.ndarray'> with shape (32813, 298)\n",
      "y_val: <class 'numpy.ndarray'> with shape (32813,)\n"
     ]
    }
   ],
   "source": [
    "print_shapes(data_copy)"
   ]
  },
  {
   "cell_type": "code",
   "execution_count": 7,
   "id": "f5e3f083",
   "metadata": {},
   "outputs": [
    {
     "name": "stdout",
     "output_type": "stream",
     "text": [
      "{'accuracy': 0.9122603846036632, 'precision': 0.7647058823529411, 'recall': 0.008974801518812565, 'f1_score': 0.017741385192766974}\n"
     ]
    }
   ],
   "source": [
    "#Logistic regression model training and evaluation\n",
    "def predict_labels(tx, w, threshold=0.5):\n",
    "    pred = sigmoid(tx @ w)\n",
    "    return (pred >= threshold).astype(int)\n",
    "\n",
    "dim = data_copy['x_train'].shape[1]\n",
    "w, loss = logistic_regression(data_copy['y_train'], data_copy['x_train'], initial_w=np.zeros(dim), max_iters=1000, gamma=0.01)\n",
    "\n",
    "y_pred = predict_labels(data_copy['x_val'], w)\n",
    "print(compute_scores(data_copy['y_val'], y_pred))"
   ]
  },
  {
   "cell_type": "code",
   "execution_count": 8,
   "id": "254f5c92",
   "metadata": {},
   "outputs": [
    {
     "data": {
      "image/png": "[encoded data removed]",
      "text/plain": [
       "<Figure size 640x480 with 1 Axes>"
      ]
     },
     "metadata": {},
     "output_type": "display_data"
    },
    {
     "name": "stdout",
     "output_type": "stream",
     "text": [
      "Optimal threshold based on F1 score: 0.16\n"
     ]
    }
   ],
   "source": [
    "f1s = []\n",
    "for threshold in [i / 100 for i in range(1, 100)]:\n",
    "    y_pred = predict_labels(data_copy['x_val'], w, threshold=threshold)\n",
    "    scores = compute_scores(data_copy['y_val'], y_pred)\n",
    "    f1s.append(scores['f1_score'])\n",
    "\n",
    "plt.plot([i / 100 for i in range(1, 100)], f1s)\n",
    "plt.xlabel('Threshold')\n",
    "plt.ylabel('F1 Score')\n",
    "plt.title('F1 Score vs. Decision Threshold')\n",
    "plt.show()\n",
    "\n",
    "optimal_threshold = (np.argmax(f1s) + 1) / 100\n",
    "print(f\"Optimal threshold based on F1 score: {optimal_threshold}\")\n"
   ]
  },
  {
   "cell_type": "code",
   "execution_count": 9,
   "id": "b61977a6",
   "metadata": {},
   "outputs": [
    {
     "name": "stdout",
     "output_type": "stream",
     "text": [
      "Unique values in test predictions: [0 1]\n",
      "Unique values in test predictions: [-1  1]\n"
     ]
    }
   ],
   "source": [
    "test_pred = predict_labels(data_copy['x_test'], w, threshold=optimal_threshold)\n",
    "#print unique values in test_pred\n",
    "print(\"Unique values in test predictions:\", np.unique(test_pred))\n",
    "#Convert test_pred to 1 and -1\n",
    "test_pred = np.where(test_pred == 1, 1, -1)\n",
    "print(\"Unique values in test predictions:\", np.unique(test_pred))\n",
    "create_csv_submission(data_copy['test_ids'], test_pred, 'logistic_regression_submission.csv')"
   ]
  }
 ],
 "metadata": {
  "kernelspec": {
   "display_name": "base",
   "language": "python",
   "name": "python3"
  },
  "language_info": {
   "codemirror_mode": {
    "name": "ipython",
    "version": 3
   },
   "file_extension": ".py",
   "mimetype": "text/x-python",
   "name": "python",
   "nbconvert_exporter": "python",
   "pygments_lexer": "ipython3",
   "version": "3.10.9"
  }
 },
 "nbformat": 4,
 "nbformat_minor": 5
}
