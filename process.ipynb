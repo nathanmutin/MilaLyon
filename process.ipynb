{
 "cells": [
  {
   "cell_type": "code",
   "execution_count": 1,
   "id": "b6faa0f5",
   "metadata": {},
   "outputs": [],
   "source": [
    "from helpers import *\n",
    "from implementations import *\n",
    "from preprocessing import *\n",
    "import numpy as np\n",
    "import matplotlib.pyplot as plt\n",
    "import pandas as pd\n",
    "import seaborn as sns"
   ]
  },
  {
   "cell_type": "code",
   "execution_count": 2,
   "id": "b14cdb74",
   "metadata": {},
   "outputs": [],
   "source": [
    "#data_folder = './data/'\n",
    "#data_folder = 'C:/Users/ACER/OneDrive - epfl.ch/Desktop/ML/dataset/'\n",
    "data_folder = \"C:/Users/plane/OneDrive/Bureau/MilaLyon/MilaLyon/data/\"\n",
    "#data_folder = \"C:/Users/ACER/OneDrive - epfl.ch/Desktop/ML/MilaLyon/data/\""
   ]
  },
  {
   "cell_type": "code",
   "execution_count": 3,
   "id": "358374f2",
   "metadata": {},
   "outputs": [
    {
     "name": "stdout",
     "output_type": "stream",
     "text": [
      "x_train: <class 'numpy.ndarray'> with shape (10000, 321)\n",
      "x_test: <class 'numpy.ndarray'> with shape (10000, 321)\n",
      "y_train: <class 'numpy.ndarray'> with shape (10000,)\n",
      "train_ids: <class 'numpy.ndarray'> with shape (10000,)\n",
      "test_ids: <class 'numpy.ndarray'> with shape (10000,)\n",
      "feature_names: <class 'numpy.ndarray'> with shape (321,)\n",
      "useless: <class 'numpy.ndarray'> with shape (321,)\n",
      "health_related: <class 'numpy.ndarray'> with shape (321,)\n",
      "better_elsewhere: <class 'numpy.ndarray'> with shape (321,)\n",
      "bad_format_no_better: <class 'numpy.ndarray'> with shape (321,)\n",
      "binary: <class 'numpy.ndarray'> with shape (321,)\n",
      "one_hot: <class 'numpy.ndarray'> with shape (321,)\n"
     ]
    }
   ],
   "source": [
    "csv_data, zero_values, default_values = load_csv_data(data_folder, max_rows=10000, dictionnary=True)\n",
    "\n",
    "#Replace zeros and default values before preprocessing\n",
    "replace_default_with_nan(csv_data['x_train'], csv_data['x_test'], csv_data['feature_names'], default_values)\n",
    "replace_by_zero(csv_data['x_train'], csv_data['x_test'], zero_values)\n",
    "\n",
    "def print_shapes(data):\n",
    "    for key, value in data.items():\n",
    "        print(f\"{key}: {type(value)} with shape {value.shape if isinstance(value, np.ndarray) else 'N/A'}\")\n",
    "print_shapes(csv_data)\n"
   ]
  },
  {
   "cell_type": "code",
   "execution_count": 4,
   "id": "df4765e1",
   "metadata": {},
   "outputs": [],
   "source": [
    "def preprocess_data(data, nan_drop_threshold=0.2, correlation_threshold=0.02, n_std=3, only_health_related=True):\n",
    "\n",
    "    # Identify and drop features with many missing values\n",
    "    nan_features = identify_too_many_missing(data[\"x_train\"], data[\"feature_names\"], threshold=nan_drop_threshold)\n",
    "    drop_features_from_dictionnary(data, nan_features)\n",
    "    print(len(nan_features), \"features with too many missing values dropped.\")\n",
    "\n",
    "    # Replace remaining NaNs with either mean or most frequent value\n",
    "    replace_nan(data[\"x_train\"], data[\"x_test\"])\n",
    "\n",
    "    # Keep only health-related features if specified\n",
    "    if only_health_related:\n",
    "        non_health_features = data['feature_names'][~data['health_related']].tolist()\n",
    "        drop_features_from_dictionnary(data, non_health_features)\n",
    "        print(len(non_health_features), \"non health-related features dropped.\")\n",
    "\n",
    "    # One-hot encode categorical features\n",
    "    n_features_before = data['x_train'].shape[1]\n",
    "    one_hot_encode(data)\n",
    "    n_features_after = data['x_train'].shape[1]\n",
    "    print(f\"One-hot encoding completed. Number of features increased from {n_features_before} to {n_features_after}.\")\n",
    "\n",
    "    # Identify and drop features with low correlation to the target\n",
    "    low_corr_features, _ = identify_low_correlation(data[\"x_train\"], data[\"y_train\"], data[\"feature_names\"], threshold=correlation_threshold)\n",
    "    drop_features_from_dictionnary(data, low_corr_features)\n",
    "    print(len(low_corr_features), \"features with low correlation dropped.\")\n",
    "\n",
    "    #Clip outliers\n",
    "    clip_outliers(data['x_train'], data['x_test'], n_std=n_std)\n",
    "\n",
    "    #Normalize features\n",
    "    data['x_train'], data['x_test'] = min_max_normalize(data['x_train'], data['x_test'])\n"
   ]
  },
  {
   "cell_type": "code",
   "execution_count": 5,
   "id": "489c61cd",
   "metadata": {},
   "outputs": [
    {
     "name": "stdout",
     "output_type": "stream",
     "text": [
      "99 features with too many missing values dropped.\n",
      "One-hot encoding completed. Number of features increased from 222 to 493.\n"
     ]
    },
    {
     "name": "stderr",
     "output_type": "stream",
     "text": [
      "c:\\Users\\plane\\anaconda3\\lib\\site-packages\\numpy\\lib\\function_base.py:2853: RuntimeWarning: invalid value encountered in divide\n",
      "  c /= stddev[:, None]\n",
      "c:\\Users\\plane\\anaconda3\\lib\\site-packages\\numpy\\lib\\function_base.py:2854: RuntimeWarning: invalid value encountered in divide\n",
      "  c /= stddev[None, :]\n"
     ]
    },
    {
     "name": "stdout",
     "output_type": "stream",
     "text": [
      "169 features with low correlation dropped.\n",
      "Clipped 61283 values in x_train (1.89% of all entries)\n",
      "Clipped 62782 values in x_test (1.94%)\n"
     ]
    }
   ],
   "source": [
    "data_copy = dict(csv_data)\n",
    "preprocess_data(data_copy, nan_drop_threshold=0.9, correlation_threshold=0.01, n_std=3, only_health_related=False)"
   ]
  },
  {
   "cell_type": "code",
   "execution_count": 6,
   "id": "20f502a7",
   "metadata": {},
   "outputs": [
    {
     "name": "stdout",
     "output_type": "stream",
     "text": [
      "x_train: <class 'numpy.ndarray'> with shape (10000, 324)\n",
      "x_test: <class 'numpy.ndarray'> with shape (10000, 324)\n",
      "y_train: <class 'numpy.ndarray'> with shape (10000,)\n",
      "train_ids: <class 'numpy.ndarray'> with shape (10000,)\n",
      "test_ids: <class 'numpy.ndarray'> with shape (10000,)\n",
      "feature_names: <class 'numpy.ndarray'> with shape (324,)\n",
      "useless: <class 'numpy.ndarray'> with shape (324,)\n",
      "health_related: <class 'numpy.ndarray'> with shape (324,)\n",
      "better_elsewhere: <class 'numpy.ndarray'> with shape (324,)\n",
      "bad_format_no_better: <class 'numpy.ndarray'> with shape (324,)\n",
      "binary: <class 'numpy.ndarray'> with shape (324,)\n",
      "one_hot: <class 'numpy.ndarray'> with shape (324,)\n"
     ]
    }
   ],
   "source": [
    "print_shapes(data_copy)"
   ]
  }
 ],
 "metadata": {
  "kernelspec": {
   "display_name": "base",
   "language": "python",
   "name": "python3"
  },
  "language_info": {
   "codemirror_mode": {
    "name": "ipython",
    "version": 3
   },
   "file_extension": ".py",
   "mimetype": "text/x-python",
   "name": "python",
   "nbconvert_exporter": "python",
   "pygments_lexer": "ipython3",
   "version": "3.10.9"
  }
 },
 "nbformat": 4,
 "nbformat_minor": 5
}
