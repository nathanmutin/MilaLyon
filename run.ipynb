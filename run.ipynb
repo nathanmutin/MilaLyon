{
 "cells": [
  {
   "cell_type": "code",
   "execution_count": 1,
   "id": "8da195a4",
   "metadata": {},
   "outputs": [],
   "source": [
    "from helpers import load_csv_data\n",
    "from implementations import *\n",
    "import numpy as np\n",
    "import matplotlib.pyplot as plt\n",
    "import pandas as pd\n",
    "import seaborn as sns\n",
    "\n",
    "data_folder = './data/'"
   ]
  },
  {
   "cell_type": "markdown",
   "id": "34f71fab",
   "metadata": {},
   "source": [
    "# Loading data from CSV files"
   ]
  },
  {
   "cell_type": "code",
   "execution_count": 5,
   "id": "e0bfde6e",
   "metadata": {},
   "outputs": [
    {
     "name": "stdout",
     "output_type": "stream",
     "text": [
      "Number of training samples:  500 \n",
      "Number of test samples:  500 \n",
      "Number of features:  321\n"
     ]
    }
   ],
   "source": [
    "x_train, x_test, y_train, train_ids, test_ids, feature_names, default_values = load_csv_data(data_folder, sub_sample=True)\n",
    "\n",
    "print(\"Number of training samples: \", x_train.shape[0]\n",
    "      , \"\\nNumber of test samples: \", x_test.shape[0]\n",
    "      , \"\\nNumber of features: \", x_train.shape[1])"
   ]
  },
  {
   "cell_type": "code",
   "execution_count": 3,
   "id": "9ffd3ab1",
   "metadata": {},
   "outputs": [
    {
     "name": "stdout",
     "output_type": "stream",
     "text": [
      "<class 'pandas.core.frame.DataFrame'>\n",
      "RangeIndex: 328135 entries, 0 to 328134\n",
      "Columns: 321 entries, _STATE to _AIDTST3\n",
      "dtypes: float64(244), int64(77)\n",
      "memory usage: 803.6 MB\n",
      "None\n",
      "<class 'pandas.core.frame.DataFrame'>\n",
      "RangeIndex: 109379 entries, 0 to 109378\n",
      "Columns: 321 entries, _STATE to _AIDTST3\n",
      "dtypes: float64(237), int64(84)\n",
      "memory usage: 267.9 MB\n",
      "None\n"
     ]
    }
   ],
   "source": [
    "# Pandas version\n",
    "# drop first column (ids)\n",
    "df_x_train = pd.read_csv(data_folder + 'x_train.csv').drop(columns=['Id'])\n",
    "df_y_train = pd.read_csv(data_folder + 'y_train.csv').drop(columns=['Id'])\n",
    "df_x_test = pd.read_csv(data_folder + 'x_test.csv').drop(columns=['Id'])\n",
    "\n",
    "# Pandas version\n",
    "print(df_x_train.info())\n",
    "print(df_x_test.info())"
   ]
  },
  {
   "cell_type": "markdown",
   "id": "9d293abc",
   "metadata": {},
   "source": [
    "# Preprocessing"
   ]
  },
  {
   "cell_type": "markdown",
   "id": "086a7a88",
   "metadata": {},
   "source": [
    "## Replace default values in dataset by NaN"
   ]
  },
  {
   "cell_type": "code",
   "execution_count": null,
   "id": "290a8d76",
   "metadata": {},
   "outputs": [],
   "source": [
    "print(\"Default values for _PRACE1:\", default_values['_PRACE1'])\n",
    "print(\"Value of _PRACE1 for sample 9:\", x_train[9,feature_names == '_PRACE1'])\n",
    "print(\"Value of _PRACE1 for sample 202:\", x_train[202,feature_names == '_PRACE1'])\n",
    "\n",
    "for i, feature in enumerate(feature_names):\n",
    "    for default_value in default_values[feature]:\n",
    "        x_train[x_train[:, i] == default_value, i] = np.nan\n",
    "        x_test[x_test[:, i] == default_value, i] = np.nan\n",
    "\n",
    "print(\"Value of _PRACE1 for sample 9:\", x_train[9,feature_names == '_PRACE1'])\n",
    "print(\"Value of _PRACE1 for sample 202:\", x_train[202,feature_names == '_PRACE1'])"
   ]
  },
  {
   "cell_type": "code",
   "execution_count": null,
   "id": "d8d9448e",
   "metadata": {},
   "outputs": [],
   "source": [
    "# With Pandas\n",
    "print(\"Value of _PRACE1 for sample 9:\", df_x_train.loc[9, '_PRACE1'])\n",
    "print(\"Value of _PRACE1 for sample 202:\", df_x_train.loc[202, '_PRACE1'])\n",
    "\n",
    "for i, feature in enumerate(feature_names):\n",
    "    # Replace default values with NaN\n",
    "    for default_value in default_values[feature]:\n",
    "        df_x_train.loc[df_x_train[feature] == default_value, feature] = np.nan\n",
    "        df_x_test.loc[df_x_test[feature] == default_value, feature] = np.nan\n",
    "        \n",
    "print(\"Value of _PRACE1 for sample 9:\", df_x_train.loc[9, '_PRACE1'])\n",
    "print(\"Value of _PRACE1 for sample 202:\", df_x_train.loc[202, '_PRACE1'])"
   ]
  },
  {
   "cell_type": "code",
   "execution_count": null,
   "id": "1aad3316",
   "metadata": {},
   "outputs": [],
   "source": [
    "x_train, x_test = min_max_normalize(x_train, x_test)"
   ]
  },
  {
   "cell_type": "code",
   "execution_count": null,
   "id": "9b94df97",
   "metadata": {},
   "outputs": [],
   "source": [
    "# Correlation matrix of features with Pandas and plotting with Seaborn\n",
    "corr_matrix = df_x_train.corr()\n",
    "plt.figure(figsize=(12, 10))\n",
    "sns.heatmap(corr_matrix, annot=False, cmap='coolwarm', fmt=\".2f\", cbar=True)\n",
    "plt.title('Feature Correlation Matrix')\n",
    "plt.show()"
   ]
  },
  {
   "cell_type": "code",
   "execution_count": null,
   "id": "ed099086",
   "metadata": {},
   "outputs": [],
   "source": [
    "threshold = 0.9\n",
    "high_corr_pairs = []\n",
    "\n",
    "for i in range (corr_matrix.shape[0]):\n",
    "    for j in range (i+1, corr_matrix.shape[0]):\n",
    "        if abs(corr_matrix[i,j]) > threshold:\n",
    "            high_corr_pairs.append((i,j))\n",
    "            \n",
    "            print(f\"Features {feature_names[i]} and {feature_names[j]} have correlation {corr_matrix[i,j]:.2f}\")\n",
    "    "
   ]
  },
  {
   "cell_type": "markdown",
   "id": "e79b7cc5",
   "metadata": {},
   "source": [
    "# Test of the algorithms on a linear regression between 2 features"
   ]
  },
  {
   "cell_type": "code",
   "execution_count": null,
   "id": "138237d9",
   "metadata": {},
   "outputs": [],
   "source": [
    "# We observe that features 1 and 2 are correlated\n",
    "# Let's test our algorithms on these two features only\n",
    "\n",
    "import numpy as np\n",
    "from matplotlib import pyplot as plt\n",
    "from implementations import mean_squared_error_gd, mean_squared_error_sgd, least_squares\n",
    "\n",
    "tx = np.ones((x_train.shape[0], 2))\n",
    "tx[:, 1] = x_train[:, 1]\n",
    "\n",
    "w_gd, _ = mean_squared_error_gd(x_train[:,2], tx, np.array([0., 0.]), max_iters=1000, gamma=0.1)\n",
    "w_sgd, _ = mean_squared_error_sgd(x_train[:,2], tx, np.array([0., 0.]), max_iters=10000, gamma=0.1)\n",
    "w_ls, _ = least_squares(x_train[:,2], tx)\n",
    "\n",
    "print(\"Weights from GD: \", w_gd)\n",
    "print(\"Weights from SGD: \", w_sgd)\n",
    "print(\"Weights from LS: \", w_ls)\n",
    "\n",
    "plt.scatter(x_train[:, 1], x_train[:, 2], alpha=0.2)\n",
    "plt.plot(x_train[:, 1], tx @ w_gd, label='GD', color='orange')\n",
    "plt.plot(x_train[:, 1], tx @ w_sgd, label='SGD', color='green')\n",
    "plt.plot(x_train[:, 1], tx @ w_ls, label='LS', color='red', linestyle='dashed')\n",
    "plt.legend()"
   ]
  }
 ],
 "metadata": {
  "kernelspec": {
   "display_name": "ML_course",
   "language": "python",
   "name": "python3"
  },
  "language_info": {
   "codemirror_mode": {
    "name": "ipython",
    "version": 3
   },
   "file_extension": ".py",
   "mimetype": "text/x-python",
   "name": "python",
   "nbconvert_exporter": "python",
   "pygments_lexer": "ipython3",
   "version": "3.13.7"
  }
 },
 "nbformat": 4,
 "nbformat_minor": 5
}
